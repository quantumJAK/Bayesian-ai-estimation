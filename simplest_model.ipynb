{
 "cells": [
  {
   "cell_type": "code",
   "execution_count": null,
   "id": "d17d1c99-5c8e-468a-bfd4-ac505b53deea",
   "metadata": {
    "tags": []
   },
   "outputs": [
    {
     "ename": "",
     "evalue": "",
     "output_type": "error",
     "traceback": [
      "\u001b[1;31mFailed to start the Kernel 'Python 3.9.6'. \n",
      "\u001b[1;31mView Jupyter <a href='command:jupyter.viewOutput'>log</a> for further details. ENOENT: no such file or directory, open '/Library/Application Support/JamfAppInstallers/com.microsoft.VSCode/tmp/kernel-v2-60233avXd79pXeUoL.json'"
     ]
    }
   ],
   "source": [
    "import numpy as np\n",
    "import matplotlib.pyplot as plt\n",
    "import qutip as qt\n",
    "sx = qt.sigmax();sy = qt.sigmay(); sz = qt.sigmaz(); s0 = qt.qeye(2)"
   ]
  },
  {
   "cell_type": "code",
   "execution_count": null,
   "id": "61b475ef",
   "metadata": {},
   "outputs": [
    {
     "ename": "",
     "evalue": "",
     "output_type": "error",
     "traceback": [
      "\u001b[1;31mFailed to start the Kernel 'Python 3.9.6'. \n",
      "\u001b[1;31mView Jupyter <a href='command:jupyter.viewOutput'>log</a> for further details. ENOENT: no such file or directory, open '/Library/Application Support/JamfAppInstallers/com.microsoft.VSCode/tmp/kernel-v2-602334700KbWexyEh.json'"
     ]
    }
   ],
   "source": [
    "# Cavity and qubit interacting by a a^+ s_z in qutip\n",
    "# Size of the space N, coherent state of the cavity alpha, initial state of the qubit is the supperposition\n",
    "# Time evolution with a collapse operator\n",
    "N = 10\n",
    "alpha = 2\n",
    "psi0 = (qt.basis(2,0)+qt.basis(2,1)).unit()\n",
    "a = qt.destroy(N)\n",
    "H = qt.tensor(a.dag()*a, s0) + qt.tensor(s0, sz) + qt.tensor(a.dag(), sz) + qt.tensor(a, sz)\n",
    "c_ops = [np.sqrt(0.1)*qt.tensor(a.dag(), s0), np.sqrt(0.1)*qt.tensor(s0, sz)]\n",
    "tlist = np.linspace(0, 10, 100)\n",
    "result = qt.mesolve(H, psi0, tlist, c_ops, [a.dag()*a, sz])\n",
    "plt.plot(tlist, result.expect[0], label=\"Cavity\")\n",
    "plt.plot(tlist, result.expect[1], label=\"Qubit\")\n",
    "plt.legend()\n",
    "plt.show()\n",
    "\n",
    "\n",
    "\n",
    "\n"
   ]
  },
  {
   "cell_type": "code",
   "execution_count": null,
   "id": "798969a2",
   "metadata": {},
   "outputs": [
    {
     "ename": "",
     "evalue": "",
     "output_type": "error",
     "traceback": [
      "\u001b[1;31mFailed to start the Kernel 'Python 3.9.6'. \n",
      "\u001b[1;31mView Jupyter <a href='command:jupyter.viewOutput'>log</a> for further details. ENOENT: no such file or directory, open '/Library/Application Support/JamfAppInstallers/com.microsoft.VSCode/tmp/kernel-v2-602334700KbWexyEh.json'"
     ]
    }
   ],
   "source": []
  }
 ],
 "metadata": {
  "kernelspec": {
   "display_name": "Python 3 (ipykernel)",
   "language": "python",
   "name": "python3"
  },
  "language_info": {
   "codemirror_mode": {
    "name": "ipython",
    "version": 3
   },
   "file_extension": ".py",
   "mimetype": "text/x-python",
   "name": "python",
   "nbconvert_exporter": "python",
   "pygments_lexer": "ipython3",
   "version": "3.9.6"
  }
 },
 "nbformat": 4,
 "nbformat_minor": 5
}
