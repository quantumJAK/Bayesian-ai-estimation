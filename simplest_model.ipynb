{
 "cells": [
  {
   "cell_type": "code",
   "execution_count": 1,
   "id": "d17d1c99-5c8e-468a-bfd4-ac505b53deea",
   "metadata": {
    "tags": []
   },
   "outputs": [],
   "source": [
    "import numpy as np\n",
    "import matplotlib.pyplot as plt\n",
    "import qutip as qt\n",
    "sx = qt.sigmax();sy = qt.sigmay(); sz = qt.sigmaz(); s0 = qt.qeye(2)"
   ]
  },
  {
   "cell_type": "code",
   "execution_count": 15,
   "id": "61b475ef",
   "metadata": {},
   "outputs": [],
   "source": [
    "# Define the quantum system of a charge qubit interacting with single mode cavity.\n",
    "# The Hamiltonian is H = H0 + H1, where H0 is the free Hamiltonian of the qubit and cavity, and H1 is the interaction Hamiltonian.\n",
    "# The free Hamiltonian is H0 = wq/2*sz + wc*a.dag()*a, where wq and wc are the frequencies of the qubit and cavity, respectively.\n",
    "# The interaction Hamiltonian is H1 = g*(a.dag()+a)*sz, where g is the coupling strength\n",
    "# The initial state is the ground state of the qubit and cavity, i.e., |0>|0>.\n",
    "# The parameters are wq = 2*pi*5GHz, wc = 2*pi*5GHz, g = 2*pi*0.1GHz, wd = 2*pi*5GHz.\n",
    "# The time interval is [0, 1000ns], and the time step is 0.1ns.\n",
    "\n",
    "# Define the free Hamiltonian\n",
    "def H0(wq, wc):\n",
    "    return wq/2*sz + wc*a.dag()*a\n",
    "\n",
    "# Define the interaction Hamiltonian\n",
    "def H1(g):\n",
    "    return g*(a.dag()+a)*sz\n",
    "\n",
    "# Define the initial state\n",
    "def psi0():\n",
    "    return qt.tensor(qt.basis(2,0), qt.basis(2,0))\n",
    "\n",
    "# Define the time interval  \n",
    "tlist = np.linspace(0, 1000, 10001)\n",
    "\n",
    "# Define the time step\n",
    "dt = tlist[1] - tlist[0]\n",
    "\n",
    "# Define the time evolution operator\n",
    "def U(wq, wc, g):\n",
    "    return qt.tensor(qt.identity(2), qt.identity(2)) - 1j*dt*(H0(wq, wc) + H1(g))\n",
    "\n",
    "# Define the time evolution of the state\n",
    "def psi(wq, wc, g):\n",
    "    return U(wq, wc, g)*psi0()\n",
    "\n",
    "# Define the expectation value of the qubit\n",
    "def qubit(wq, wc, g):\n",
    "    return qt.expect(sx, psi(wq, wc, g))\n",
    "\n",
    "\n",
    "\n",
    "\n",
    "\n"
   ]
  },
  {
   "cell_type": "code",
   "execution_count": 8,
   "id": "0d46cc7c",
   "metadata": {},
   "outputs": [],
   "source": [
    "# import pictures from the disc and change their color to black and white  \n",
    "def black_and_white(file_name):\n",
    "    img = Image.open(file_name).convert('L')\n",
    "    img.save(file_name)\n"
   ]
  },
  {
   "cell_type": "code",
   "execution_count": null,
   "id": "e288e175",
   "metadata": {},
   "outputs": [],
   "source": []
  }
 ],
 "metadata": {
  "kernelspec": {
   "display_name": "Python 3 (ipykernel)",
   "language": "python",
   "name": "python3"
  },
  "language_info": {
   "codemirror_mode": {
    "name": "ipython",
    "version": 3
   },
   "file_extension": ".py",
   "mimetype": "text/x-python",
   "name": "python",
   "nbconvert_exporter": "python",
   "pygments_lexer": "ipython3",
   "version": "3.11.3"
  }
 },
 "nbformat": 4,
 "nbformat_minor": 5
}
