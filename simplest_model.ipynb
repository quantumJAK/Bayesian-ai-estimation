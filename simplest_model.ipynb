{
 "cells": [
  {
   "cell_type": "code",
   "execution_count": 8,
   "id": "d17d1c99-5c8e-468a-bfd4-ac505b53deea",
   "metadata": {
    "tags": []
   },
   "outputs": [],
   "source": [
    "import numpy as np\n",
    "import matplotlib.pyplot as plt\n",
    "import qutip as qt\n",
    "sx = qt.sigmax();sy = qt.sigmay(); sz = qt.sigmaz(); s0 = qt.qeye(2)"
   ]
  },
  {
   "cell_type": "code",
   "execution_count": 11,
   "id": "61b475ef",
   "metadata": {},
   "outputs": [
    {
     "ename": "TypeError",
     "evalue": "Incompatible quantum object dimensions",
     "output_type": "error",
     "traceback": [
      "\u001b[0;31m---------------------------------------------------------------------------\u001b[0m",
      "\u001b[0;31mTypeError\u001b[0m                                 Traceback (most recent call last)",
      "\u001b[1;32m/home/krzywda/Documents/Measurment/Measure-physics/simplest_model copy.ipynb Cell 2\u001b[0m in \u001b[0;36m1\n\u001b[1;32m     <a href='vscode-notebook-cell:/home/krzywda/Documents/Measurment/Measure-physics/simplest_model%20copy.ipynb#W1sZmlsZQ%3D%3D?line=13'>14</a>\u001b[0m unityN \u001b[39m=\u001b[39m qt\u001b[39m.\u001b[39mqeye(N)    \u001b[39m# Identity operator of the cavity\u001b[39;00m\n\u001b[1;32m     <a href='vscode-notebook-cell:/home/krzywda/Documents/Measurment/Measure-physics/simplest_model%20copy.ipynb#W1sZmlsZQ%3D%3D?line=15'>16</a>\u001b[0m \u001b[39m# Hamiltonian\u001b[39;00m\n\u001b[0;32m---> <a href='vscode-notebook-cell:/home/krzywda/Documents/Measurment/Measure-physics/simplest_model%20copy.ipynb#W1sZmlsZQ%3D%3D?line=16'>17</a>\u001b[0m H \u001b[39m=\u001b[39m qt\u001b[39m.\u001b[39;49mtensor(a\u001b[39m.\u001b[39;49mdag()\u001b[39m*\u001b[39;49ma, sz) \u001b[39m+\u001b[39;49m qt\u001b[39m.\u001b[39;49mtensor(unityN, sz) \u001b[39m+\u001b[39;49m qt\u001b[39m.\u001b[39;49mtensor(a\u001b[39m*\u001b[39;49ma\u001b[39m.\u001b[39;49mdag(), s0) \n\u001b[1;32m     <a href='vscode-notebook-cell:/home/krzywda/Documents/Measurment/Measure-physics/simplest_model%20copy.ipynb#W1sZmlsZQ%3D%3D?line=18'>19</a>\u001b[0m \u001b[39m# Time list\u001b[39;00m\n\u001b[1;32m     <a href='vscode-notebook-cell:/home/krzywda/Documents/Measurment/Measure-physics/simplest_model%20copy.ipynb#W1sZmlsZQ%3D%3D?line=19'>20</a>\u001b[0m tlist \u001b[39m=\u001b[39m np\u001b[39m.\u001b[39mlinspace(\u001b[39m0\u001b[39m, \u001b[39m10\u001b[39m, \u001b[39m100\u001b[39m)\n",
      "File \u001b[0;32m~/.local/lib/python3.11/site-packages/qutip/qobj.py:435\u001b[0m, in \u001b[0;36mQobj.__add__\u001b[0;34m(self, other)\u001b[0m\n\u001b[1;32m    432\u001b[0m     \u001b[39mreturn\u001b[39;00m out\n\u001b[1;32m    434\u001b[0m \u001b[39melif\u001b[39;00m \u001b[39mself\u001b[39m\u001b[39m.\u001b[39mdims \u001b[39m!=\u001b[39m other\u001b[39m.\u001b[39mdims:\n\u001b[0;32m--> 435\u001b[0m     \u001b[39mraise\u001b[39;00m \u001b[39mTypeError\u001b[39;00m(\u001b[39m'\u001b[39m\u001b[39mIncompatible quantum object dimensions\u001b[39m\u001b[39m'\u001b[39m)\n\u001b[1;32m    437\u001b[0m \u001b[39melif\u001b[39;00m \u001b[39mself\u001b[39m\u001b[39m.\u001b[39mshape \u001b[39m!=\u001b[39m other\u001b[39m.\u001b[39mshape:\n\u001b[1;32m    438\u001b[0m     \u001b[39mraise\u001b[39;00m \u001b[39mTypeError\u001b[39;00m(\u001b[39m'\u001b[39m\u001b[39mMatrix shapes do not match\u001b[39m\u001b[39m'\u001b[39m)\n",
      "\u001b[0;31mTypeError\u001b[0m: Incompatible quantum object dimensions"
     ]
    }
   ],
   "source": [
    "# Cavity and qubit interacting by a a^+ s_z in qutip\n",
    "# Size of the space N, coherent state of the cavity alpha, initial state of the qubit is the supperposition\n",
    "# Time evolution with a collapse operator\n",
    "\n",
    "N = 10 # Size of the boson space\n",
    "alpha = 2  #Magnitude of the coherent state\n",
    "\n",
    "\n",
    "psi0_q = (qt.basis(2,0)+qt.basis(2,1)).unit() # Initial state of the qubit (two levels, eg. S-T)\n",
    "psi0_r = qt.coherent(N, alpha)  # Initial state of the cavity (coherent state)\n",
    "psi0 = qt.tensor(psi0_r, psi0_q) # Initial state of the system (tensor product)\n",
    "\n",
    "a = qt.destroy(N)  # Destroy operator of the cavity\n",
    "unityN = qt.qeye(N)    # Identity operator of the cavity\n",
    "\n",
    "# Hamiltonian\n",
    "H = qt.tensor(a.dag()*a, sz) + qt.tensor(unityN, sz) + qt.tensor(a*a.dag(), s0) \n",
    "\n",
    "# Time list\n",
    "tlist = np.linspace(0, 10, 100)\n",
    "\n",
    "\n",
    "# Observables\n",
    "n = qt.tensor(a.dag()*a, s0) # Number of photons in the cavity\n",
    "sz = qt.tensor(unityN, sz) # Spin of the qubit\n",
    "Q = qt.tensor(a.dag()+a, s0)/2 # Quadrature of the cavity\n",
    "P = qt.tensor(1j*(a.dag()-a), s0)/2 # Quadrature of the cavity\n",
    "\n",
    "\n",
    "result = qt.mesolve(H, psi0, tlist, e_ops=[Q], c_ops=[], options=qt.Options(nsteps=10000))\n",
    "\n",
    "\n",
    "\n",
    "\n",
    "\n"
   ]
  },
  {
   "cell_type": "markdown",
   "id": "23a622a2",
   "metadata": {},
   "source": []
  },
  {
   "cell_type": "code",
   "execution_count": null,
   "id": "a331cc65",
   "metadata": {},
   "outputs": [],
   "source": []
  },
  {
   "cell_type": "code",
   "execution_count": null,
   "id": "e0be51be",
   "metadata": {},
   "outputs": [],
   "source": []
  },
  {
   "cell_type": "code",
   "execution_count": 10,
   "id": "798969a2",
   "metadata": {},
   "outputs": [
    {
     "ename": "IndexError",
     "evalue": "list index out of range",
     "output_type": "error",
     "traceback": [
      "\u001b[0;31m---------------------------------------------------------------------------\u001b[0m",
      "\u001b[0;31mIndexError\u001b[0m                                Traceback (most recent call last)",
      "\u001b[1;32m/home/krzywda/Documents/Measurment/Measure-physics/simplest_model copy.ipynb Cell 3\u001b[0m in \u001b[0;36m3\n\u001b[1;32m      <a href='vscode-notebook-cell:/home/krzywda/Documents/Measurment/Measure-physics/simplest_model%20copy.ipynb#W2sZmlsZQ%3D%3D?line=0'>1</a>\u001b[0m \u001b[39m#plot n, sz, Q \u001b[39;00m\n\u001b[1;32m      <a href='vscode-notebook-cell:/home/krzywda/Documents/Measurment/Measure-physics/simplest_model%20copy.ipynb#W2sZmlsZQ%3D%3D?line=1'>2</a>\u001b[0m plt\u001b[39m.\u001b[39mplot(tlist, result\u001b[39m.\u001b[39mexpect[\u001b[39m0\u001b[39m], label\u001b[39m=\u001b[39m\u001b[39m\"\u001b[39m\u001b[39mn\u001b[39m\u001b[39m\"\u001b[39m)\n\u001b[0;32m----> <a href='vscode-notebook-cell:/home/krzywda/Documents/Measurment/Measure-physics/simplest_model%20copy.ipynb#W2sZmlsZQ%3D%3D?line=2'>3</a>\u001b[0m plt\u001b[39m.\u001b[39mplot(tlist, result\u001b[39m.\u001b[39;49mexpect[\u001b[39m1\u001b[39;49m], label\u001b[39m=\u001b[39m\u001b[39m\"\u001b[39m\u001b[39msz\u001b[39m\u001b[39m\"\u001b[39m)\n\u001b[1;32m      <a href='vscode-notebook-cell:/home/krzywda/Documents/Measurment/Measure-physics/simplest_model%20copy.ipynb#W2sZmlsZQ%3D%3D?line=3'>4</a>\u001b[0m plt\u001b[39m.\u001b[39mplot(tlist, result\u001b[39m.\u001b[39mexpect[\u001b[39m2\u001b[39m], label\u001b[39m=\u001b[39m\u001b[39m\"\u001b[39m\u001b[39mQ\u001b[39m\u001b[39m\"\u001b[39m)\n\u001b[1;32m      <a href='vscode-notebook-cell:/home/krzywda/Documents/Measurment/Measure-physics/simplest_model%20copy.ipynb#W2sZmlsZQ%3D%3D?line=4'>5</a>\u001b[0m plt\u001b[39m.\u001b[39mlegend()\n",
      "\u001b[0;31mIndexError\u001b[0m: list index out of range"
     ]
    },
    {
     "data": {
      "image/png": "[encoded data removed]",
      "text/plain": [
       "<Figure size 432x288 with 1 Axes>"
      ]
     },
     "metadata": {
      "needs_background": "light"
     },
     "output_type": "display_data"
    }
   ],
   "source": [
    "#plot n, sz, Q \n",
    "plt.plot(tlist, result.expect[0], label=\"n\")\n",
    "plt.plot(tlist, result.expect[1], label=\"sz\")\n",
    "plt.plot(tlist, result.expect[2], label=\"Q\")\n",
    "plt.legend()\n",
    "plt.show()\n"
   ]
  },
  {
   "cell_type": "code",
   "execution_count": null,
   "id": "d4721576",
   "metadata": {},
   "outputs": [],
   "source": []
  }
 ],
 "metadata": {
  "kernelspec": {
   "display_name": "Python 3 (ipykernel)",
   "language": "python",
   "name": "python3"
  },
  "language_info": {
   "codemirror_mode": {
    "name": "ipython",
    "version": 3
   },
   "file_extension": ".py",
   "mimetype": "text/x-python",
   "name": "python",
   "nbconvert_exporter": "python",
   "pygments_lexer": "ipython3",
   "version": "3.11.4"
  }
 },
 "nbformat": 4,
 "nbformat_minor": 5
}
