{
 "cells": [
  {
   "cell_type": "code",
   "execution_count": 6,
   "metadata": {},
   "outputs": [],
   "source": [
    "import numpy as np\n",
    "import matplotlib.pyplot as plt\n"
   ]
  },
  {
   "cell_type": "code",
   "execution_count": 9,
   "metadata": {},
   "outputs": [],
   "source": [
    "# parameters\n",
    "eps11 = -7 #MHz \n",
    "dt  = 1\n",
    "tau_B = 1e9\n",
    "tau_eps = 1e2\n",
    "sig_eps = 10\n",
    "sig_B = 30\n",
    "n = 1000\n",
    "sig_measure = 0.1\n",
    "\n",
    "def J(eps, J0 = 20, J1 = 725, eps0 = 4.4):\n",
    "    return J0 + J1*np.exp(eps/eps0)\n",
    "\n",
    "\n",
    "def eps_J(J, J0 = 20, J1 = 725, eps0 = 4.4):\n",
    "    return (np.log((J - J0)/J1))*eps0\n",
    "\n",
    "# single step of o-u process with time step dt, and correlation time tau, and variance sigma\n",
    "def ou_step(x, dt, tau, sigma):\n",
    "    return x - dt/tau * x + np.sqrt(dt) * sigma * np.random.randn()\n",
    "\n",
    "# simulate the o-u process with time step dt, and correlation time tau, and variance sigma\n",
    "def ou_process(dt, tau, sigma, n):\n",
    "    x = np.zeros(n)\n",
    "    x[0]  = np.random.randn()\n",
    "    for i in range(1, n):\n",
    "        x[i] = ou_step(x[i-1], dt, tau, sigma)\n",
    "    return x\n",
    "\n",
    "# simulate the measurement of the frequency with noise\n",
    "def measure(B, eps):\n",
    "    om_ideal = np.sqrt(B**2 + J(eps)**2)\n",
    "    noise = sig_measure*np.random.randn()\n",
    "    return om_ideal + noise\n",
    "\n",
    "\n",
    "# simulate the measurement of the frequencies at two detunigs with noise\n",
    "def single_run(N, B, deps):\n",
    "    om11 = np.zeros(N)     \n",
    "    om02 = np.zeros(N)\n",
    "    dom11 = np.zeros(N)\n",
    "    dom02 = np.zeros(N)\n",
    "    for n in range(N):\n",
    "\n",
    "        #measurm ent at (1,1)\n",
    "        B = ou_step(B, dt, tau_B, sig_B)\n",
    "        deps = ou_step(deps, dt, tau_eps, sig_eps)\n",
    "        om11[n] = measure(B, eps11+deps)\n",
    "        dom11[n] = om11[n] - np.sqrt(B**2 + J(eps11)**2)\n",
    "\n",
    "        #inference of B\n",
    "        eps02 = eps_J(om11[-1]**2 - B**2)\n",
    "\n",
    "        #alternatively\n",
    "        #eps02 = eps02_fixed\n",
    "\n",
    "        #measurment at (0,2)\n",
    "        B = ou_step(B, dt, tau_B, sig_B)\n",
    "        deps = ou_step(deps, dt, tau_eps, sig_eps)\n",
    "        om02[n] =  measure(B, eps02+deps)\n",
    "        dom02[n] = om02[n] - np.sqrt(B**2 + J(eps02)**2)\n",
    "        #feedback of eps   \n",
    "\n",
    "    \n",
    "\n",
    "\n",
    "\n",
    "\n",
    "\n",
    "\n",
    "\n"
   ]
  },
  {
   "cell_type": "code",
   "execution_count": 8,
   "metadata": {},
   "outputs": [
    {
     "data": {
      "image/png": "[encoded data removed]",
      "text/plain": [
       "<Figure size 432x288 with 1 Axes>"
      ]
     },
     "metadata": {
      "needs_background": "light"
     },
     "output_type": "display_data"
    }
   ],
   "source": [
    "single_run(10, 0, 0)"
   ]
  },
  {
   "cell_type": "code",
   "execution_count": null,
   "metadata": {},
   "outputs": [],
   "source": []
  }
 ],
 "metadata": {
  "kernelspec": {
   "display_name": "Python 3",
   "language": "python",
   "name": "python3"
  },
  "language_info": {
   "codemirror_mode": {
    "name": "ipython",
    "version": 3
   },
   "file_extension": ".py",
   "mimetype": "text/x-python",
   "name": "python",
   "nbconvert_exporter": "python",
   "pygments_lexer": "ipython3",
   "version": "3.11.4"
  },
  "orig_nbformat": 4
 },
 "nbformat": 4,
 "nbformat_minor": 2
}
