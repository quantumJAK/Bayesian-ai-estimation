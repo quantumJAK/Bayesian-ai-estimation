{
 "cells": [
  {
   "cell_type": "code",
   "execution_count": 1,
   "id": "d17d1c99-5c8e-468a-bfd4-ac505b53deea",
   "metadata": {
    "tags": []
   },
   "outputs": [],
   "source": [
    "import numpy as np\n",
    "import matplotlib.pyplot as plt\n",
    "import qutip as qt\n",
    "sx = qt.sigmax();sy = qt.sigmay(); sz = qt.sigmaz(); s0 = qt.qeye(2)"
   ]
  },
  {
   "cell_type": "code",
   "execution_count": 9,
   "id": "61b475ef",
   "metadata": {},
   "outputs": [],
   "source": [
    "# Cavity and qubit interacting by a a^+ s_z in qutip\n",
    "# Size of the space N, coherent state of the cavity alpha, initial state of the qubit is the supperposition\n",
    "# Time evolution with a collapse operator\n",
    "N = 10\n",
    "alpha = 2\n",
    "\n",
    "psi0_q = (qt.basis(2,0)+qt.basis(2,1)).unit()\n",
    "psi0_r = qt.coherent(N, alpha)\n",
    "psi0 = qt.tensor(psi0_r, psi0_q)\n",
    "\n",
    "a = qt.destroy(N)\n",
    "unityN = qt.qeye(N)\n",
    "\n",
    "H = qt.tensor(a.dag()*a, sz) + qt.tensor(unityN, sz) + qt.tensor(a*a.dag(), s0) \n",
    "\n",
    "\n",
    "tlist = np.linspace(0, 10, 100)\n",
    "\n",
    "\n",
    "result = qt.mesolve(H, psi0, tlist)\n",
    "\n",
    "\n",
    "\n",
    "\n",
    "\n"
   ]
  },
  {
   "cell_type": "code",
   "execution_count": 12,
   "id": "798969a2",
   "metadata": {},
   "outputs": [
    {
     "data": {
      "text/latex": [
       "Quantum object: dims = [[2], [2]], shape = (2, 2), type = oper, isherm = True $ \\\\ \\left(\\begin{matrix}0.500 & 0.500\\\\0.500 & 0.500\\\\\\end{matrix}\\right)$"
      ],
      "text/plain": [
       "Quantum object: dims = [[2], [2]], shape = (2, 2), type = oper, isherm = True\n",
       "Qobj data =\n",
       "[[0.5 0.5]\n",
       " [0.5 0.5]]"
      ]
     },
     "execution_count": 12,
     "metadata": {},
     "output_type": "execute_result"
    }
   ],
   "source": [
    "result.states[0].ptrace(1)"
   ]
  },
  {
   "cell_type": "code",
   "execution_count": null,
   "id": "d4721576",
   "metadata": {},
   "outputs": [],
   "source": []
  }
 ],
 "metadata": {
  "kernelspec": {
   "display_name": "Python 3 (ipykernel)",
   "language": "python",
   "name": "python3"
  },
  "language_info": {
   "codemirror_mode": {
    "name": "ipython",
    "version": 3
   },
   "file_extension": ".py",
   "mimetype": "text/x-python",
   "name": "python",
   "nbconvert_exporter": "python",
   "pygments_lexer": "ipython3",
   "version": "3.10.9"
  }
 },
 "nbformat": 4,
 "nbformat_minor": 5
}
