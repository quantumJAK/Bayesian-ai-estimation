{
 "cells": [
  {
   "cell_type": "code",
   "execution_count": 3,
   "id": "d17d1c99-5c8e-468a-bfd4-ac505b53deea",
   "metadata": {
    "tags": []
   },
   "outputs": [],
   "source": [
    "import numpy as np\n",
    "import matplotlib.pyplot as plt\n",
    "import qutip as qt\n",
    "sx = qt.sigmax();sy = qt.sigmay(); sz = qt.sigmaz(); s0 = qt.qeye(2); sm = qt.sigmam(); sp = qt.sigmap()"
   ]
  },
  {
   "cell_type": "code",
   "execution_count": 46,
   "id": "9cd30e59",
   "metadata": {},
   "outputs": [
    {
     "name": "stdout",
     "output_type": "stream",
     "text": [
      "[0.07965259+0.j]\n"
     ]
    }
   ],
   "source": [
    "# Define the Hamiltonian [[E13, t23,t01,0],[t23,E12, 0, t01],[t01,0,E03,t23],[0,t01,t23,E02]]\n",
    "def hamiltonian(E13,E12,E03,E02,t23,t01):\n",
    "    return np.array([[E13, t23,t01,0],[t23,E12, 0, t01],[t01,0,E03,t23],[0,t01,t23,E02]])\n",
    "\n",
    "\n",
    "# convert Hamiltonian to qutip object and add contribution from resonance gate\n",
    "def hamiltonian_qutip(E13,E12,E03,E02,t23,t01, lever_arms_res, Vr):\n",
    "    E13 = E13 + Vr*(lever_arms_res[1]+lever_arms_res[3])\n",
    "    E12 = E12 + Vr*(lever_arms_res[1]+lever_arms_res[2])\n",
    "    E03 = E03 + Vr*(lever_arms_res[0]+lever_arms_res[3])\n",
    "    E02 = E02 + Vr*(lever_arms_res[0]+lever_arms_res[2])\n",
    "    return qt.Qobj(hamiltonian(E13,E12,E03,E02,t23,t01))\n",
    "\n",
    "\n",
    "def compute_q_capacitance(Hvr, lever_arms_res,  Vr = [-1e-3,1e-3]):\n",
    "    Es = []\n",
    "    for V in Vr:\n",
    "        Es.append(Hvr(V).eigenstates()[1][0])\n",
    "    dP_states = np.array(Es[1])**2 - np.array(Es[0])**2\n",
    "    dP1 = dP_states[2] + dP_states[3]\n",
    "    dP3 = dP_states[0] + dP_states[2]\n",
    "    dV = Vr[1]-Vr[0]\n",
    "    return (lever_arms_res[1]-lever_arms_res[0])*dP1/dV+(\n",
    "        lever_arms_res[3]-lever_arms_res[2])*dP3/dV\n",
    "\n",
    "\n",
    "\n",
    "lever_arms_res = np.array([np.exp(-r) for r in range(4)])\n",
    "#Energies of each state E_ij = mu_i + mu_j + U_{ij}\n",
    "E02 = 0\n",
    "E12 = 1\n",
    "E13 = 2\n",
    "E03 = 2\n",
    "\n",
    "# Tunneling rates\n",
    "t = 1\n",
    "\n",
    "Hvr = lambda Vr: hamiltonian_qutip(E13,E12,E03,E02,t,t,lever_arms_res, Vr)\n",
    "\n",
    "# Compute the capacitance\n",
    "C = compute_q_capacitance(Hvr, lever_arms_res, Vr = [-1e-4,1e-4])\n",
    "\n",
    "print(C)"
   ]
  }
 ],
 "metadata": {
  "kernelspec": {
   "display_name": "Python 3 (ipykernel)",
   "language": "python",
   "name": "python3"
  },
  "language_info": {
   "codemirror_mode": {
    "name": "ipython",
    "version": 3
   },
   "file_extension": ".py",
   "mimetype": "text/x-python",
   "name": "python",
   "nbconvert_exporter": "python",
   "pygments_lexer": "ipython3",
   "version": "3.10.9"
  }
 },
 "nbformat": 4,
 "nbformat_minor": 5
}
