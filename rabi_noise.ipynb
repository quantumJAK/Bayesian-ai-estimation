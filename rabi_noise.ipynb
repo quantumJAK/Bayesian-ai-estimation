{
 "cells": [
  {
   "cell_type": "code",
   "execution_count": 4,
   "id": "d17d1c99-5c8e-468a-bfd4-ac505b53deea",
   "metadata": {
    "tags": []
   },
   "outputs": [],
   "source": [
    "import numpy as np\n",
    "import matplotlib.pyplot as plt\n",
    "import qutip as qt\n",
    "sx = qt.sigmax();sy = qt.sigmay(); sz = qt.sigmaz(); s0 = qt.qeye(2)"
   ]
  },
  {
   "cell_type": "code",
   "execution_count": 156,
   "id": "207c96e0-2912-46b0-b934-9bb357df5929",
   "metadata": {
    "tags": []
   },
   "outputs": [],
   "source": [
    "\n",
    "def update_xi(xi, dt, tc, sig):\n",
    "    #Will be similair function for other models as well\n",
    "    n = np.random.normal(0,1)\n",
    "    xi = xi*np.exp(-dt/tc)+np.sqrt(1-np.exp(-2*dt/tc))*sig*n\n",
    "    #print(\"post\"+str(self.xi))\n",
    "    return xi\n",
    "\n",
    "hbar = 0.65821195\n",
    "\n",
    "\n",
    "def measure(basisA, basisB, psi):\n",
    "    op_pp = qt.tensor((s0+basisA)/2,(s0+basisB)/2)\n",
    "    op_mm = qt.tensor((s0-basisA)/2,(s0-basisB)/2)\n",
    "    op_pm = qt.tensor((s0+basisA)/2,(s0-basisB)/2)\n",
    "    op_mp = qt.tensor((s0-basisA)/2,(s0+basisB)/2)\n",
    "    prob_pp = (qt.expect(op_pp,psi))\n",
    "    prob_mm = (qt.expect(op_mm,psi))\n",
    "    prob_pm = (qt.expect(op_pm,psi))\n",
    "    prob_mp = (qt.expect(op_mp,psi))\n",
    "    #print(prob_pp+prob_mm+prob_pm+prob_mp)\n",
    "    draw = np.random.uniform()\n",
    "    if draw < prob_pp:\n",
    "        return (1,1)\n",
    "    elif draw < prob_pp+prob_mm:\n",
    "        return (0,0)\n",
    "    elif draw < prob_pp+prob_mm+prob_pm:\n",
    "        return (1,0)\n",
    "    else:\n",
    "        return (0,1)\n",
    "\n",
    "    \n",
    "def get_results(basis, register):\n",
    "    results = []\n",
    "    for r in register:\n",
    "        if r[2]==basis:\n",
    "            results.append([r[0], r[1], r[3][0],r[3][1]])\n",
    "    return np.array(results)\n",
    "    "
   ]
  },
  {
   "cell_type": "code",
   "execution_count": 157,
   "id": "589a0295-8f93-4456-8eea-5f826e7fdca4",
   "metadata": {
    "tags": []
   },
   "outputs": [],
   "source": [
    "def get_results(sig, tc, dt, th, trials):\n",
    "    basisA = [sx*np.cos(th)+sz*np.sin(th),sz*np.cos(th)-sx*np.sin(th)]\n",
    "    basisB = [sx,sz]\n",
    "    psi = qt.ghz_state(2)\n",
    "    results = []\n",
    "    xis = [0]\n",
    "    for tr in range(trials):\n",
    "        A_m = np.random.randint(len(basisA))\n",
    "        B_m = np.random.randint(len(basisB))\n",
    "        shot = measure(basisA[A_m],basisB[B_m],psi)\n",
    "        psi = (1j*qt.tensor(sx,sz)*xis[-1]).expm()*qt.ghz_state(2)\n",
    "        #print(qt.expect(qt.tensor(basisA[A_m],basisB[B_m]),psi))\n",
    "        results.append([tr, xis[-1], (A_m, B_m), (shot[0],shot[1])])\n",
    "        xis.append(update_xi(xis[-1], dt, tc, sig))\n",
    "    return results\n",
    "\n",
    "#2323"
   ]
  },
  {
   "cell_type": "code",
   "execution_count": 187,
   "id": "b4bdb278-d467-4ad3-9060-af1d1b210a31",
   "metadata": {
    "tags": []
   },
   "outputs": [],
   "source": [
    "def get_joint_probability(register):\n",
    "    bases = list(set([r[2] for r in register]))\n",
    "    bases.sort()\n",
    "    probs = np.zeros((len(register),len(bases),4))\n",
    "    for rn,r in enumerate(register):\n",
    "        if rn>0:\n",
    "            probs[rn:, bases.index(r[2]),2*r[3][0]+r[3][1]] += 1\n",
    "        else:\n",
    "            probs[rn:, bases.index(r[2]),2*r[3][0]+r[3][1]] = 1\n",
    "        probs[rn] = probs[rn]/(rn+1)\n",
    "        \n",
    "    return probs\n",
    "        \n",
    "    "
   ]
  },
  {
   "cell_type": "code",
   "execution_count": 188,
   "id": "c1630398-d741-4026-96a8-15c945b45842",
   "metadata": {
    "tags": []
   },
   "outputs": [],
   "source": [
    "tc = 5\n",
    "sig = 0.0\n",
    "th = 1\n",
    "trials = 50\n",
    "res = get_results(sig, tc, dt, th, trials)\n",
    "probs = get_joint_probability(res)"
   ]
  },
  {
   "cell_type": "code",
   "execution_count": 193,
   "id": "9401779c-df2d-4bbc-b140-5dbcaf243bd2",
   "metadata": {
    "tags": []
   },
   "outputs": [
    {
     "data": {
      "text/plain": [
       "array([[0.  , 0.02, 0.  , 0.12],\n",
       "       [0.1 , 0.02, 0.02, 0.08],\n",
       "       [0.  , 0.26, 0.14, 0.  ],\n",
       "       [0.12, 0.06, 0.02, 0.04]])"
      ]
     },
     "execution_count": 193,
     "metadata": {},
     "output_type": "execute_result"
    }
   ],
   "source": [
    "probs[-1]"
   ]
  },
  {
   "cell_type": "code",
   "execution_count": null,
   "id": "cc7a3242-e034-4790-9de4-6ad0e7ba72d2",
   "metadata": {},
   "outputs": [],
   "source": [
    "for prob in probs:\n",
    "    for k in range(4):\n",
    "        plt.plot()"
   ]
  }
 ],
 "metadata": {
  "kernelspec": {
   "display_name": "Python 3 (ipykernel)",
   "language": "python",
   "name": "python3"
  },
  "language_info": {
   "codemirror_mode": {
    "name": "ipython",
    "version": 3
   },
   "file_extension": ".py",
   "mimetype": "text/x-python",
   "name": "python",
   "nbconvert_exporter": "python",
   "pygments_lexer": "ipython3",
   "version": "3.11.3"
  }
 },
 "nbformat": 4,
 "nbformat_minor": 5
}
